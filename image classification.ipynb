{
 "cells": [
  {
   "cell_type": "code",
   "execution_count": 22,
   "metadata": {},
   "outputs": [],
   "source": [
    "import os\n",
    "import pandas  as pd"
   ]
  },
  {
   "cell_type": "code",
   "execution_count": 24,
   "metadata": {},
   "outputs": [],
   "source": [
    "#os.getcwd()\n",
    "data=\"C:/Users/aksha/Desktop//PLANT_SEEDLINGS\"\n",
    "train_dir = os.path.join(data, 'train')\n",
    "test_dir = os.path.join(data, 'test')\n",
    "#sample_submission = pd.read_csv(os.path.join(data, 'sample_submission.csv'))"
   ]
  },
  {
   "cell_type": "code",
   "execution_count": 46,
   "metadata": {},
   "outputs": [
    {
     "name": "stdout",
     "output_type": "stream",
     "text": [
      "['Black-grass', 'Charlock', 'Cleavers', 'Common Chickweed', 'Common wheat', 'Fat Hen', 'Loose Silky-bent', 'Maize', 'Scentless Mayweed', 'Shepherds Purse', 'Small-flowered Cranesbill', 'Sugar beet']\n",
      "12 number of plant species\n",
      "263 images of Black-grass\n",
      "390 images of Charlock\n",
      "287 images of Cleavers\n",
      "611 images of Common Chickweed\n",
      "221 images of Common wheat\n",
      "463 images of Fat Hen\n",
      "654 images of Loose Silky-bent\n",
      "221 images of Maize\n",
      "516 images of Scentless Mayweed\n",
      "231 images of Shepherds Purse\n",
      "496 images of Small-flowered Cranesbill\n",
      "385 images of Sugar beet\n"
     ]
    }
   ],
   "source": [
    "#######################DIRECTORIES\n",
    "plants_species=os.listdir(\"C:/Users/aksha/Desktop//PLANT_SEEDLINGS//train\")\n",
    "number_plant_species=len(plants_species)\n",
    "print(plants_species)\n",
    "print('{} number of plant species'.format(number_plant_species))\n",
    "for species in plants_species:\n",
    "    print('{} images of {}'.format(len(os.listdir(os.path.join(train_dir, species))),species))   "
   ]
  },
  {
   "cell_type": "code",
   "execution_count": 52,
   "metadata": {},
   "outputs": [
    {
     "name": "stdout",
     "output_type": "stream",
     "text": [
      "train_df.shape =  (4738, 4)\n"
     ]
    }
   ],
   "source": [
    "train = []\n",
    "for species_id, species in enumerate(plants_species):\n",
    "    for file in os.listdir(os.path.join(train_dir, species)):\n",
    "        train.append(['train/{}/{}'.format(sp, file), file, species_id, species])\n",
    "train_df = pd.DataFrame(train, columns=['filepath', 'file', 'species_id', 'species'])\n",
    "print('train_df.shape = ', train_df.shape)"
   ]
  },
  {
   "cell_type": "code",
   "execution_count": 55,
   "metadata": {},
   "outputs": [
    {
     "data": {
      "text/html": [
       "<div>\n",
       "<style>\n",
       "    .dataframe thead tr:only-child th {\n",
       "        text-align: right;\n",
       "    }\n",
       "\n",
       "    .dataframe thead th {\n",
       "        text-align: left;\n",
       "    }\n",
       "\n",
       "    .dataframe tbody tr th {\n",
       "        vertical-align: top;\n",
       "    }\n",
       "</style>\n",
       "<table border=\"1\" class=\"dataframe\">\n",
       "  <thead>\n",
       "    <tr style=\"text-align: right;\">\n",
       "      <th></th>\n",
       "      <th>filepath</th>\n",
       "      <th>file</th>\n",
       "      <th>species_id</th>\n",
       "      <th>species</th>\n",
       "    </tr>\n",
       "  </thead>\n",
       "  <tbody>\n",
       "    <tr>\n",
       "      <th>4733</th>\n",
       "      <td>train/Sugar beet/fc293eacb.png</td>\n",
       "      <td>fc293eacb.png</td>\n",
       "      <td>11</td>\n",
       "      <td>Sugar beet</td>\n",
       "    </tr>\n",
       "    <tr>\n",
       "      <th>4734</th>\n",
       "      <td>train/Sugar beet/fc441208c.png</td>\n",
       "      <td>fc441208c.png</td>\n",
       "      <td>11</td>\n",
       "      <td>Sugar beet</td>\n",
       "    </tr>\n",
       "    <tr>\n",
       "      <th>4735</th>\n",
       "      <td>train/Sugar beet/fed9406b2.png</td>\n",
       "      <td>fed9406b2.png</td>\n",
       "      <td>11</td>\n",
       "      <td>Sugar beet</td>\n",
       "    </tr>\n",
       "    <tr>\n",
       "      <th>4736</th>\n",
       "      <td>train/Sugar beet/fef5e7066.png</td>\n",
       "      <td>fef5e7066.png</td>\n",
       "      <td>11</td>\n",
       "      <td>Sugar beet</td>\n",
       "    </tr>\n",
       "    <tr>\n",
       "      <th>4737</th>\n",
       "      <td>train/Sugar beet/ffa401155.png</td>\n",
       "      <td>ffa401155.png</td>\n",
       "      <td>11</td>\n",
       "      <td>Sugar beet</td>\n",
       "    </tr>\n",
       "  </tbody>\n",
       "</table>\n",
       "</div>"
      ],
      "text/plain": [
       "                            filepath           file  species_id     species\n",
       "4733  train/Sugar beet/fc293eacb.png  fc293eacb.png          11  Sugar beet\n",
       "4734  train/Sugar beet/fc441208c.png  fc441208c.png          11  Sugar beet\n",
       "4735  train/Sugar beet/fed9406b2.png  fed9406b2.png          11  Sugar beet\n",
       "4736  train/Sugar beet/fef5e7066.png  fef5e7066.png          11  Sugar beet\n",
       "4737  train/Sugar beet/ffa401155.png  ffa401155.png          11  Sugar beet"
      ]
     },
     "execution_count": 55,
     "metadata": {},
     "output_type": "execute_result"
    }
   ],
   "source": [
    "train_df.tail()\n",
    "#type(train_df)"
   ]
  },
  {
   "cell_type": "code",
   "execution_count": 56,
   "metadata": {},
   "outputs": [
    {
     "name": "stdout",
     "output_type": "stream",
     "text": [
      "test_df.shape =  (794, 2)\n"
     ]
    }
   ],
   "source": [
    "test = []\n",
    "for file in os.listdir(test_dir):\n",
    "    test.append(['test/{}'.format(file), file])\n",
    "test_df = pd.DataFrame(test, columns=['filepath', 'file'])\n",
    "print('test_df.shape = ', test_df.shape)"
   ]
  },
  {
   "cell_type": "code",
   "execution_count": 57,
   "metadata": {},
   "outputs": [
    {
     "data": {
      "text/html": [
       "<div>\n",
       "<style>\n",
       "    .dataframe thead tr:only-child th {\n",
       "        text-align: right;\n",
       "    }\n",
       "\n",
       "    .dataframe thead th {\n",
       "        text-align: left;\n",
       "    }\n",
       "\n",
       "    .dataframe tbody tr th {\n",
       "        vertical-align: top;\n",
       "    }\n",
       "</style>\n",
       "<table border=\"1\" class=\"dataframe\">\n",
       "  <thead>\n",
       "    <tr style=\"text-align: right;\">\n",
       "      <th></th>\n",
       "      <th>filepath</th>\n",
       "      <th>file</th>\n",
       "    </tr>\n",
       "  </thead>\n",
       "  <tbody>\n",
       "    <tr>\n",
       "      <th>789</th>\n",
       "      <td>test/fea355851.png</td>\n",
       "      <td>fea355851.png</td>\n",
       "    </tr>\n",
       "    <tr>\n",
       "      <th>790</th>\n",
       "      <td>test/fea3da57c.png</td>\n",
       "      <td>fea3da57c.png</td>\n",
       "    </tr>\n",
       "    <tr>\n",
       "      <th>791</th>\n",
       "      <td>test/fef2ade8c.png</td>\n",
       "      <td>fef2ade8c.png</td>\n",
       "    </tr>\n",
       "    <tr>\n",
       "      <th>792</th>\n",
       "      <td>test/ff65bc002.png</td>\n",
       "      <td>ff65bc002.png</td>\n",
       "    </tr>\n",
       "    <tr>\n",
       "      <th>793</th>\n",
       "      <td>test/ffc6f8527.png</td>\n",
       "      <td>ffc6f8527.png</td>\n",
       "    </tr>\n",
       "  </tbody>\n",
       "</table>\n",
       "</div>"
      ],
      "text/plain": [
       "               filepath           file\n",
       "789  test/fea355851.png  fea355851.png\n",
       "790  test/fea3da57c.png  fea3da57c.png\n",
       "791  test/fef2ade8c.png  fef2ade8c.png\n",
       "792  test/ff65bc002.png  ff65bc002.png\n",
       "793  test/ffc6f8527.png  ffc6f8527.png"
      ]
     },
     "execution_count": 57,
     "metadata": {},
     "output_type": "execute_result"
    }
   ],
   "source": [
    "test_df.tail()"
   ]
  },
  {
   "cell_type": "code",
   "execution_count": 58,
   "metadata": {
    "collapsed": true
   },
   "outputs": [],
   "source": [
    "from matplotlib import pyplot as plt\n",
    "from skimage import data\n",
    "from skimage.feature import *\n",
    "from math import sqrt\n",
    "from skimage.color import rgb2gray\n",
    "import glob\n",
    "from skimage.io import imread"
   ]
  },
  {
   "cell_type": "code",
   "execution_count": 65,
   "metadata": {},
   "outputs": [],
   "source": [
    "file=glob.glob(\"C:/Users/aksha/Desktop//PLANT_SEEDLINGS//train//Sugar beet//ffa01155.png\")"
   ]
  },
  {
   "cell_type": "code",
   "execution_count": 67,
   "metadata": {},
   "outputs": [
    {
     "ename": "AttributeError",
     "evalue": "'list' object has no attribute 'show'",
     "output_type": "error",
     "traceback": [
      "\u001b[1;31m---------------------------------------------------------------------------\u001b[0m",
      "\u001b[1;31mAttributeError\u001b[0m                            Traceback (most recent call last)",
      "\u001b[1;32m<ipython-input-67-d161edcd78fd>\u001b[0m in \u001b[0;36m<module>\u001b[1;34m()\u001b[0m\n\u001b[1;32m----> 1\u001b[1;33m \u001b[0mfile\u001b[0m\u001b[1;33m.\u001b[0m\u001b[0mshow\u001b[0m\u001b[1;33m(\u001b[0m\u001b[1;33m)\u001b[0m\u001b[1;33m\u001b[0m\u001b[0m\n\u001b[0m",
      "\u001b[1;31mAttributeError\u001b[0m: 'list' object has no attribute 'show'"
     ]
    }
   ],
   "source": [
    "#file.show()"
   ]
  },
  {
   "cell_type": "code",
   "execution_count": null,
   "metadata": {
    "collapsed": true
   },
   "outputs": [],
   "source": []
  }
 ],
 "metadata": {
  "kernelspec": {
   "display_name": "Python 3",
   "language": "python",
   "name": "python3"
  },
  "language_info": {
   "codemirror_mode": {
    "name": "ipython",
    "version": 3
   },
   "file_extension": ".py",
   "mimetype": "text/x-python",
   "name": "python",
   "nbconvert_exporter": "python",
   "pygments_lexer": "ipython3",
   "version": "3.6.1"
  }
 },
 "nbformat": 4,
 "nbformat_minor": 2
}
